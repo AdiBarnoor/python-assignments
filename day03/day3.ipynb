{
 "cells": [
  {
   "cell_type": "code",
   "execution_count": 6,
   "metadata": {},
   "outputs": [
    {
     "name": "stdout",
     "output_type": "stream",
     "text": [
      "Area of the rectangle: 6\n",
      "Circumference of the rectangle: 10\n",
      "Area of the circle: 3.141592653589793\n",
      "Circumference of the circle: 6.283185307179586\n"
     ]
    }
   ],
   "source": [
    "import math\n",
    "\n",
    "radius = input(\"Radius of circle = \")\n",
    "length = input(\"Length of rectangle = \")\n",
    "width = input(\"Width of rectangle = \")\n",
    "areac = math.pi* int(radius) * int(radius)\n",
    "circumferencec = math.pi * 2 * int(radius)\n",
    "arear = int(length) * int(width)\n",
    "circumferencer = 2*int(width) + 2*int(length)\n",
    "\n",
    "print(f\"Area of the rectangle: {arear}\")\n",
    "print(f\"Circumference of the rectangle: {circumferencer}\")\n",
    "print(f\"Area of the circle: {areac}\")\n",
    "print(f\"Circumference of the circle: {circumferencec}\")"
   ]
  }
 ],
 "metadata": {
  "kernelspec": {
   "display_name": "Python 3",
   "language": "python",
   "name": "python3"
  },
  "language_info": {
   "codemirror_mode": {
    "name": "ipython",
    "version": 3
   },
   "file_extension": ".py",
   "mimetype": "text/x-python",
   "name": "python",
   "nbconvert_exporter": "python",
   "pygments_lexer": "ipython3",
   "version": "3.13.0"
  }
 },
 "nbformat": 4,
 "nbformat_minor": 2
}
